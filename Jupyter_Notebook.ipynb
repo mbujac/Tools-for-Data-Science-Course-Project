  {
   "cell_type": "markdown",
   "metadata": {},
   "source": [
    " Create a markdown cell with the title of the notebook. (1 pt)"
   ]
  },
  {
   "attachments": {},
   "cell_type": "markdown",
   "metadata": {},
   "source": [
    "# Data Science Tools and Ecosystem"
   ]
  },
  {
   "cell_type": "markdown",
   "metadata": {},
   "source": [
    "Create a markdown cell for an introduction. (1 pt)"
   ]
  },
  {
   "attachments": {},
   "cell_type": "markdown",
   "metadata": {},
   "source": [
    "### Introduction\n",
    "\n",
    "In this notebook are used a combination of markdown text and code to exemplify on how to create a Jupiter Notebook document."
   ]
  },
  {
   "cell_type": "markdown",
   "metadata": {},
   "source": [
    "Create a markdown cell to list data science languages. (3 pts)"
   ]
  },
  {
   "attachments": {},
   "cell_type": "markdown",
   "metadata": {},
   "source": [
    "### The most popular Data Science languages are:\n",
    "1. Python\n",
    "2. R\n",
    "3. SQL\n",
    "4. Java\n",
    "5. Julia\n",
    "6. Scala\n",
    "7. JavaScript\n",
    "8. Swift"
   ]
  },
  {
   "cell_type": "markdown",
   "metadata": {},
   "source": [
    "Create a markdown cell to list data science libraries. (3 pts)"
   ]
  },
  {
   "attachments": {},
   "cell_type": "markdown",
   "metadata": {},
   "source": [
    "### Data Science libraries:\n",
    "1. NumPy\n",
    "2. Pandas\n",
    "3. Matplotlib \n",
    "4. SciPy \n",
    "5. SciKit-Learn\n",
    "6. TensorFlow\n",
    "7. PyTorch\n",
    "8. Keras\n",
    "9. Scrapy\n",
    "10. BeautifulSoup\n",
    "11. dplyr\n",
    "12. tidyr\n",
    "13. readr\n",
    "14. stringr\n",
    "15. ggplot2\n",
    "16. lubridate\n",
    "17. jsonlite\n",
    "18. Shiny\n",
    "19. caret\n",
    "20. ggraph"
   ]
  },
  {
   "cell_type": "markdown",
   "metadata": {},
   "source": [
    "Create a markdown cell with a table of Data Science tools. (3 pts)"
   ]
  },
  {
   "attachments": {},
   "cell_type": "markdown",
   "metadata": {},
   "source": [
    "### Data Science Tools:\n",
    "\n",
    "| Data Management Tools| Data Integration and Transformation Tools | Data Visualization Tools | Code Asset Management Tools | Development Environments |\n",
    "| --- | --- | --- | --- | --- |\n",
    "| Relational Databases - MySQL, PostgreSQL, DB2 | Apache AirFlow | Cognos Analytics | Git | Jupiter Notebooks |\n",
    "| NoSQL Databases - MangoDB, Apache Casandra | Apache Kafka | Tableau | GitHub | RStudio |\n",
    "| Big Data Platforms - Apache Hadoop, Apache Spark | | Power BI | | |"
   ]
  },
  {
   "cell_type": "markdown",
   "metadata": {},
   "source": [
    "Create a markdown cell introducing arithmetic expression examples. (1 pt)"
   ]
  },
  {
   "cell_type": "markdown",
   "metadata": {},
   "source": [
    "### An arithmetic expression that includes addition, subtraction, multiplication, division, and exponents:"
   ]
  },
  {
   "cell_type": "code",
   "execution_count": 2,
   "metadata": {
    "tags": []
   },
   "outputs": [
    {
     "data": {
      "text/plain": [
       "2.5896980461811725"
      ]
     },
     "execution_count": 2,
     "metadata": {},
     "output_type": "execute_result"
    }
   ],
   "source": [
    "(23 - 14)**3 / (34 + 23**2) * 2"
   ]
  },
  {
   "cell_type": "markdown",
   "metadata": {},
   "source": [
    "An arithmetic expression as a combination of exponents, addition, and division:"
   ]
  },
  {
   "cell_type": "code",
   "execution_count": 3,
   "metadata": {
    "tags": []
   },
   "outputs": [
    {
     "data": {
      "text/plain": [
       "14.833333333333334"
      ]
     },
     "execution_count": 3,
     "metadata": {},
     "output_type": "execute_result"
    }
   ],
   "source": [
    "(2**3 + 3**4)/6"
   ]
  },
  {
   "cell_type": "markdown",
   "metadata": {},
   "source": [
    "Create a code cell to multiply and add numbers. (2 pts)"
   ]
  },
  {
   "cell_type": "code",
   "execution_count": 1,
   "metadata": {
    "tags": []
   },
   "outputs": [
    {
     "name": "stdout",
     "output_type": "stream",
     "text": [
      "add =  57\n",
      "prod =  782\n"
     ]
    }
   ],
   "source": [
    "# multiply/add two numbers\n",
    "\n",
    "a = 23\n",
    "b = 34\n",
    "add = a + b\n",
    "print('add = ', add)\n",
    "prod = a * b\n",
    "print('prod = ',prod)"
   ]
  },
  {
   "cell_type": "markdown",
   "metadata": {},
   "source": [
    "Create a code cell to convert minutes to hours. (2 pts)"
   ]
  },
  {
   "cell_type": "code",
   "execution_count": 7,
   "metadata": {
    "tags": []
   },
   "outputs": [
    {
     "name": "stdout",
     "output_type": "stream",
     "text": [
      "1.6\n"
     ]
    }
   ],
   "source": [
    "minutes = 95\n",
    "hours = minutes / 60\n",
    "print(round(hours,1))"
   ]
  },
  {
   "cell_type": "markdown",
   "metadata": {},
   "source": [
    "Insert a markdown cell to list Objectives. (3 pts)"
   ]
  },
  {
   "cell_type": "markdown",
   "metadata": {},
   "source": [
    "### Objectives:\n",
    "- Create a markdown cell with the title of the notebook.\n",
    "- Create a markdown cell for an introduction.\n",
    "- Create a markdown cell to list data science languages. \n",
    "- Create a markdown cell to list data science libraries.\n",
    "- Create a markdown cell with a table of Data Science tools. \n",
    "- Create a markdown cell introducing arithmetic expression examples.\n",
    "- Create a code cell to multiply and add numbers. \n",
    "- Create a code cell to convert minutes to hours.\n",
    "- Insert a markdown cell to list Objectives.\n",
    "- Create a markdown cell to indicate the Author’s name. \n",
    "- Share your notebook through GitHub.\n",
    "- Take a screenshot of the first page of the notebook."
   ]
  },
  {
   "cell_type": "markdown",
   "metadata": {},
   "source": [
    "## Author\n",
    "\n",
    "Mariana Bujac-Leisz"
   ]
  },
  {
   "cell_type": "code",
   "execution_count": null,
   "metadata": {},
   "outputs": [],
   "source": []
  }
 ],
 "metadata": {
  "kernelspec": {
   "display_name": "Python",
   "language": "python",
   "name": "conda-env-python-py"
  },
  "language_info": {
   "codemirror_mode": {
    "name": "ipython",
    "version": 3
   },
   "file_extension": ".py",
   "mimetype": "text/x-python",
   "name": "python",
   "nbconvert_exporter": "python",
   "pygments_lexer": "ipython3",
   "version": "3.7.12"
  }
 },
 "nbformat": 4,
 "nbformat_minor": 4
}
