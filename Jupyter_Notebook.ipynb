{
 "cells": [
  {
   "cell_type": "markdown",
   "metadata": {},
   "source": [
    "<center>\n",
    "    <img src=\"https://cf-courses-data.s3.us.cloud-object-storage.appdomain.cloud/IBMDeveloperSkillsNetwork-DS0105EN-SkillsNetwork/labs/Module2/images/SN_web_lightmode.png\" width=\"300\" alt=\"cognitiveclass.ai logo\">\n",
    "</center>\n"
   ]
  },
  {
   "cell_type": "markdown",
   "metadata": {},
   "source": [
    " Create a markdown cell with the title of the notebook. (1 pt)"
   ]
  },
  {
   "cell_type": "markdown",
   "metadata": {},
   "source": [
    "# Jupiter Notebook Lab"
   ]
  },
  {
   "cell_type": "markdown",
   "metadata": {},
   "source": [
    "Create a markdown cell for an introduction. (1 pt)"
   ]
  },
  {
   "cell_type": "markdown",
   "metadata": {},
   "source": [
    "## Introduction\n",
    "\n",
    "This notebook will use a combination of markdown text and code to exemplify on how to create a Jupiter Notebook document."
   ]
  },
  {
   "cell_type": "markdown",
   "metadata": {},
   "source": [
    "Create a markdown cell to list data science languages. (3 pts)"
   ]
  },
  {
   "cell_type": "markdown",
   "metadata": {},
   "source": [
    "The most popular Data Science languages are:\n",
    "1. Python\n",
    "2. R\n",
    "3. SQL\n",
    "4. Java\n",
    "5. Julia\n",
    "6. Scala\n",
    "7. JavaScript\n",
    "8. Swift"
   ]
  },
  {
   "cell_type": "markdown",
   "metadata": {},
   "source": [
    "Create a markdown cell to list data science libraries. (3 pts)"
   ]
  },
  {
   "cell_type": "markdown",
   "metadata": {},
   "source": [
    "Top 10 Python Data Science libraries:\n",
    "1. NumPy\n",
    "2. Pandas\n",
    "3. Matplotlib \n",
    "4. SciPy \n",
    "5. SciKit-Learn\n",
    "6. TensorFlow\n",
    "7. PyTorch\n",
    "8. Keras\n",
    "9. Scrapy\n",
    "10. BeautifulSoup\n",
    "\n",
    "Top 10 R Data Science Libraries:\n",
    "1. dplyr\n",
    "2. tidyr\n",
    "3. readr\n",
    "4. stringr\n",
    "5. ggplot2\n",
    "6. lubridate\n",
    "7. jsonlite\n",
    "8. Shiny\n",
    "9. caret\n",
    "10. ggraph"
   ]
  },
  {
   "cell_type": "markdown",
   "metadata": {},
   "source": [
    "Create a markdown cell with a table of Data Science tools. (3 pts)"
   ]
  },
  {
   "cell_type": "markdown",
   "metadata": {},
   "source": [
    "Data Science Tools:\n",
    "\n",
    "| Data Management Tools| Data Integration and Transformation Tools | Data Visualization Tools | Code Asset Management Tools | Development Environments |\n",
    "| --- | --- | --- | --- | --- |\n",
    "| Relational Databases - MySQL, PostgreSQL, DB2 | Apache AirFlow | Cognos Analytics | Git | Jupiter Notebooks |\n",
    "| NoSQL Databases - MangoDB, Apache Casandra | Apache Kafka | Tableau | GitHub | RStudio |\n",
    "| Big Data Platforms - Apache Hadoop, Apache Spark | | Power BI | | |"
   ]
  },
  {
   "cell_type": "markdown",
   "metadata": {},
   "source": [
    "Create a markdown cell introducing arithmetic expression examples. (1 pt)"
   ]
  },
  {
   "cell_type": "markdown",
   "metadata": {},
   "source": [
    "An arithmetic expression that includes addition, subtraction, multiplication, division, and exponents:"
   ]
  },
  {
   "cell_type": "code",
   "execution_count": 2,
   "metadata": {
    "tags": []
   },
   "outputs": [
    {
     "data": {
      "text/plain": [
       "2.5896980461811725"
      ]
     },
     "execution_count": 2,
     "metadata": {},
     "output_type": "execute_result"
    }
   ],
   "source": [
    "(23 - 14)**3 / (34 + 23**2) * 2"
   ]
  },
  {
   "cell_type": "markdown",
   "metadata": {},
   "source": [
    "An arithmetic expression as a combination of exponents, addition, and division:"
   ]
  },
  {
   "cell_type": "code",
   "execution_count": 3,
   "metadata": {
    "tags": []
   },
   "outputs": [
    {
     "data": {
      "text/plain": [
       "14.833333333333334"
      ]
     },
     "execution_count": 3,
     "metadata": {},
     "output_type": "execute_result"
    }
   ],
   "source": [
    "(2**3 + 3**4)/6"
   ]
  },
  {
   "cell_type": "markdown",
   "metadata": {},
   "source": [
    "Create a code cell to multiply and add numbers. (2 pts)"
   ]
  },
  {
   "cell_type": "code",
   "execution_count": 6,
   "metadata": {
    "tags": []
   },
   "outputs": [
    {
     "name": "stdout",
     "output_type": "stream",
     "text": [
      "add =  57\n",
      "prod =  782\n"
     ]
    }
   ],
   "source": [
    "a = 23\n",
    "b = 34\n",
    "add = a + b\n",
    "print('add = ', add)\n",
    "prod = a * b\n",
    "print('prod = ',prod)"
   ]
  },
  {
   "cell_type": "markdown",
   "metadata": {},
   "source": [
    "Create a code cell to convert minutes to hours. (2 pts)"
   ]
  },
  {
   "cell_type": "code",
   "execution_count": 7,
   "metadata": {
    "tags": []
   },
   "outputs": [
    {
     "name": "stdout",
     "output_type": "stream",
     "text": [
      "1.6\n"
     ]
    }
   ],
   "source": [
    "minutes = 95\n",
    "hours = minutes / 60\n",
    "print(round(hours,1))"
   ]
  },
  {
   "cell_type": "markdown",
   "metadata": {},
   "source": [
    "Insert a markdown cell to list Objectives. (3 pts)"
   ]
  },
  {
   "cell_type": "markdown",
   "metadata": {},
   "source": [
    "### Objectives:\n",
    "- Create a markdown cell with the title of the notebook.\n",
    "- Create a markdown cell for an introduction.\n",
    "- Create a markdown cell to list data science languages. \n",
    "- Create a markdown cell to list data science libraries.\n",
    "- Create a markdown cell with a table of Data Science tools. \n",
    "- Create a markdown cell introducing arithmetic expression examples.\n",
    "- Create a code cell to multiply and add numbers. \n",
    "- Create a code cell to convert minutes to hours.\n",
    "- Insert a markdown cell to list Objectives.\n",
    "- Create a markdown cell to indicate the Author’s name. \n",
    "- Share your notebook through GitHub.\n",
    "- Take a screenshot of the first page of the notebook."
   ]
  },
  {
   "cell_type": "markdown",
   "metadata": {},
   "source": [
    "Author: Mariana Bujac-Leisz"
   ]
  },
  {
   "cell_type": "code",
   "execution_count": null,
   "metadata": {},
   "outputs": [],
   "source": []
  }
 ],
 "metadata": {
  "kernelspec": {
   "display_name": "Python",
   "language": "python",
   "name": "conda-env-python-py"
  },
  "language_info": {
   "codemirror_mode": {
    "name": "ipython",
    "version": 3
   },
   "file_extension": ".py",
   "mimetype": "text/x-python",
   "name": "python",
   "nbconvert_exporter": "python",
   "pygments_lexer": "ipython3",
   "version": "3.7.12"
  }
 },
 "nbformat": 4,
 "nbformat_minor": 4
}
